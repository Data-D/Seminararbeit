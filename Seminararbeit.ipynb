{
 "cells": [
  {
   "cell_type": "markdown",
   "metadata": {},
   "source": [
    "<center><br><img width=600 src=\"https://upload.wikimedia.org/wikipedia/de/c/c8/Logo_Uni_Paderborn.svg\"/><br></center>\n",
    "<center><br><img width=250 src=\"https://git.uni-paderborn.de/data.analytics.teaching/aml4ta-2020/-/raw/master/resources/dag.png\"/><br></center>\n",
    "\n",
    "\n",
    "\n",
    "\n",
    "<font color=\"#003660\"><center><b> Universität Paderborn</b><center>\n",
    "<font color=\"#003660\"><center><b> Fakultät für Wirtschaftswissenschaften</b><center>\n",
    "<font color=\"#003660\"><center><b> Department Wirtschaftsinformatik</b><center>\n",
    "<font color=\"#003660\"><center><b> Lehrstuhl für Wirtschaftsinformatik, insb. Data Analytics</b><center>\n",
    "\n",
    "\n",
    "\n",
    "\n",
    "    \n",
    "<p>\n",
    "    \n",
    "    \n",
    "<center><font color=\"#003660\">Seminararbeit</font></center>\n",
    "    \n",
    "</p>\n",
    "    \n",
    "    \n",
    "    \n",
    "#Hallo Daniel ich arbeite hier noch dran \n",
    "    "
   ]
  },
  {
   "cell_type": "markdown",
   "metadata": {},
   "source": [
    "# <font color=\"#003660\">Applied Machine Learning for Text Analysis (M.184.5331)</font>\n",
    "# <font color=\"#003660\">Week 0: Fundamentals of Text Processing</font>\n",
    "\n",
    "<center><br><img width=256 src=\"https://git.uni-paderborn.de/data.analytics.teaching/aml4ta-2020/-/raw/master/resources/dag.png\"/><br></center>\n",
    "\n",
    "<p>\n",
    "<center>\n",
    "<div>\n",
    "    <font color=\"#085986\"><b>By the end of this lesson, you will be able to...</b><br><br>\n",
    "        ... perform basic data wrangling techniques; and<br>\n",
    "        ... apply fundamental text preprocessing techniques; and\n",
    "    </font>\n",
    "</div>\n",
    "</center>\n",
    "</p>\n",
    "#Hallo Daniel ich arbeite hier noch dran "
   ]
  },
  {
   "cell_type": "markdown",
   "metadata": {},
   "source": [
    "# 1. Introduction\n",
    "\n",
    "<p>\n",
    "<center>\n",
    "<div>\n",
    "    <i>\"Natural language processing is the set of methods for making human language accessible to computers.\"\n",
    "        <br>&mdash; Eisenstein (2019)</i>\n",
    "</div>\n",
    "</center>\n",
    "</p>\n",
    "\n",
    "#Hallo Daniel ich arbeite hier noch dran "
   ]
  },
  {
   "cell_type": "markdown",
   "metadata": {},
   "source": [
    "\n",
    "\n",
    "#Michael ich arbeite noch dran "
   ]
  },
  {
   "cell_type": "markdown",
   "metadata": {},
   "source": [
    "# 2. Motivation (direkt Introduction nennen?)\n",
    "\n",
    "<p style='text-align: justify;'> Unternehmen stehen oftmals vor der Herausforderung, zahlreiche Fragen bestehender oder potenzieller Kunden beantworten zu müssen. Als wichtige Kommunikationskanäle für die Beantwortung dieser Fragen, dienen bei vielen Unternehmen Kontaktformulare auf ihrer Webseite oder aber öffentliche E-Mail Adressen des Kundendienstes. Die Beantwortung dieser Fragen kann durchaus Zeitintensiv sein, da nicht jedes Unternehmen viele Mitarbeiter in ihrem Kundendienst einstellen kann. Allerdings ist eine schnelle und korrekte Beantwortung der Fragen essenziell, damit die Kundenzufriedenheit nicht leidet. Um den Personalaufwand zu reduzieren, gleichzeitig Geld zu sparen und die Kundenzufriedenheit hoch zu halten, ist es daher wichtig, dass Unternehmen Unterstüzungssysteme nutzen. In dem Projekt „Combining Corporate Knowledgebase with E-Mail Services“ wird, mithilfe verschiedener Text-Mining Methoden ein Unterstützungssystem entwickelt, welches einerseits auf bereits existierende Antworten zugreift, die auf einer internenen Wissensdatenbank gespeichert sind und andererseits erkennt, wenn auf bestimmten Fragen noch keine Antworten in der Wissensdatenbank existieren. Das Unterstützungssystem nutzt also den Umstand, dass viele Fragen die im Unternehmen eingehen schon einmal von anderen Kunden gestellt wurden und deshalb passende Antworten bereits in der Wissensdatenbank existieren. Um einen möglichst großen Nutzen für den Kundendienst des Unternehmens zu schaffen, ist das Ziel des Unterstützungssystems eine passende Antwort auf die Kundenfrage automatisch zu generieren. Diese automatisch generierte Antwort muss dann von dem jeweiligen Produktexperten vor dem Absenden lediglich auf ihre Güte geprüft werden. Die Implementation des Unterstützungssystems kann beispielsweise als „Plug-In“im E-Mail Programm des Unternehmens umgesetzt werden.  </p>\n",
    "\n",
    "<p style='text-align: justify;'> Für die automatische Generierung der Antwort, ist es zunächst notwendig, die eingehende Kundennachricht einer Produktkategorie zuzuordnen, um den verantwortlichen Produktexperten im Unternehmen zu bestimmen. Es existieren verschiedene Methoden, um diese Klassifizierung auszuführen. In einem ersten Schritt ist es folglich notwendig folgende Forchungsfrage zu beantworten: „Welche Methoden der Klassifizierung von Fragen zu Produktkategorien eignen sich besonders gut, um den Produktexperten zu bestimmen?“. Nachdem die Kundennachricht in die passende Produktkategorie klassifiziert wurde, muss die Kundenfrage aus der Kundennachricht extrahiert werden.  Anschließend wird dem jeweiligen Produktexperten eine automatisch erstellte Antwort vorgeschlagen. Auch bei der automatischen Generierung der Antwort ist die Anwendung verschiedener Methoden möglich. Folglich stellt sich die folgende, zweite Forschungsfrage: „Welche Methoden eignen sich zur Erstellung einer adäquaten Antwort?“. Im Anschluss prüft der jeweilige Produktexperte die Güte der automatisch erstellten Antwort und passt diese gegebenfalls vor dem Versenden der Antwort manuell an.  </p>\n",
    "\n",
    "<p style='text-align: justify;'> Um einen noch größeren Nutzen für das Unternehmen zu schaffen wird in einer dritten Forschungsfrage geprüft, welche Methoden sich für die vollautomatisierte Erstellung einer Antwort eignen, unabhägig von der Produktkategorie. Die dritte Forschungsfrage lautet demnach: „Welche Methoden eignen sich für die vollautomatisierte Erstellung einer Antwort, unabhängig von der Produktkategorie?“ </p>\n",
    "\n",
    "<p style='text-align: justify;'> Das folgende BPMN-Modell stellt das Konzept des Unterstützungssystems, sowie die zu beantwortenden Forschungsfragen dar: </p>\n",
    "\n",
    "\n"
   ]
  },
  {
   "cell_type": "code",
   "execution_count": 4,
   "metadata": {},
   "outputs": [
    {
     "data": {
      "text/html": [
       "\n",
       "        <iframe\n",
       "            width=\"900\"\n",
       "            height=\"600\"\n",
       "            src=\"http://localhost:8888/notebooks/Documents/GitHub/Seminararbeit/BPMN-Modell.jpeg\"\n",
       "            frameborder=\"0\"\n",
       "            allowfullscreen\n",
       "        ></iframe>\n",
       "        "
      ],
      "text/plain": [
       "<IPython.lib.display.IFrame at 0x241064d1250>"
      ]
     },
     "execution_count": 4,
     "metadata": {},
     "output_type": "execute_result"
    }
   ],
   "source": [
    "from IPython.display import IFrame\n",
    "IFrame(\"http://localhost:8888/notebooks/Documents/GitHub/Seminararbeit/BPMN-Modell.jpeg\", width=900, height=600, )"
   ]
  },
  {
   "cell_type": "code",
   "execution_count": null,
   "metadata": {},
   "outputs": [],
   "source": []
  },
  {
   "cell_type": "code",
   "execution_count": null,
   "metadata": {},
   "outputs": [],
   "source": []
  },
  {
   "cell_type": "code",
   "execution_count": null,
   "metadata": {},
   "outputs": [],
   "source": []
  },
  {
   "cell_type": "code",
   "execution_count": null,
   "metadata": {},
   "outputs": [],
   "source": []
  },
  {
   "cell_type": "code",
   "execution_count": null,
   "metadata": {},
   "outputs": [],
   "source": []
  },
  {
   "cell_type": "code",
   "execution_count": null,
   "metadata": {},
   "outputs": [],
   "source": []
  },
  {
   "cell_type": "code",
   "execution_count": null,
   "metadata": {},
   "outputs": [],
   "source": []
  },
  {
   "cell_type": "code",
   "execution_count": null,
   "metadata": {},
   "outputs": [],
   "source": []
  },
  {
   "cell_type": "code",
   "execution_count": null,
   "metadata": {},
   "outputs": [],
   "source": []
  },
  {
   "cell_type": "code",
   "execution_count": null,
   "metadata": {},
   "outputs": [],
   "source": []
  },
  {
   "cell_type": "code",
   "execution_count": null,
   "metadata": {},
   "outputs": [],
   "source": []
  },
  {
   "cell_type": "code",
   "execution_count": null,
   "metadata": {},
   "outputs": [],
   "source": []
  },
  {
   "cell_type": "code",
   "execution_count": null,
   "metadata": {},
   "outputs": [],
   "source": []
  },
  {
   "cell_type": "code",
   "execution_count": null,
   "metadata": {},
   "outputs": [],
   "source": []
  },
  {
   "cell_type": "code",
   "execution_count": null,
   "metadata": {},
   "outputs": [],
   "source": []
  },
  {
   "cell_type": "code",
   "execution_count": null,
   "metadata": {},
   "outputs": [],
   "source": []
  },
  {
   "cell_type": "code",
   "execution_count": null,
   "metadata": {},
   "outputs": [],
   "source": []
  }
 ],
 "metadata": {
  "kernelspec": {
   "display_name": "Python 3",
   "language": "python",
   "name": "python3"
  },
  "language_info": {
   "codemirror_mode": {
    "name": "ipython",
    "version": 3
   },
   "file_extension": ".py",
   "mimetype": "text/x-python",
   "name": "python",
   "nbconvert_exporter": "python",
   "pygments_lexer": "ipython3",
   "version": "3.8.3"
  }
 },
 "nbformat": 4,
 "nbformat_minor": 4
}
